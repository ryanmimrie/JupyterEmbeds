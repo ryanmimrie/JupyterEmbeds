{
 "cells": [
  {
   "cell_type": "code",
   "execution_count": null,
   "metadata": {},
   "outputs": [],
   "source": [
    "# ======================================================================================================================\n",
    "# ===== Resource: SYBR qPCR Exporter Functions =========================================================================\n",
    "# ======================================================================================================================\n",
    "\n",
    "# ----------------------------------------------------------------------------------------------------------------------\n",
    "# ----- [0] Description ------------------------------------------------------------------------------------------------\n",
    "# ----------------------------------------------------------------------------------------------------------------------\n",
    "\n",
    "# ----- [0.1] Purpose --------------------------------------------------------------------------------------------------\n",
    "\n",
    "'\n",
    "This script contains functions for the export of Rox-normalised amplification data from StepOne V2.3 software.\n",
    "\n",
    "It is designed to be used in tandem with LinRegPCR v2020.0, available here:\n",
    "https://www.genetargetsolutions.com.au/qpcr/linregpcr-and-factor-qpcr/\n",
    "\n",
    "'\n",
    "\n",
    "# ----- [0.2] Dependancies: --------------------------------------------------------------------------------------------\n",
    "\n",
    "'The following libraries are required: tidyverse, crayon'\n",
    "\n",
    "\n",
    "# ----- [0.3] Usage: ---------------------------------------------------------------------------------------------------\n",
    "\n",
    "'This script is designed to be imported into other R scripts as a dependancy.\n",
    "\n",
    "This is achieved by adding the following line to scripts (please ensure path is complete if this script is not in the\n",
    "working directory):'\n",
    "\n",
    "#source('Resource_SYBRFunctions.R')\n",
    "\n",
    "'Once loaded, functions within this script can be run by directing it to a desired directory as follows:'\n",
    "\n",
    "#SYBR$exportFile(directory)"
   ]
  }
 ],
 "metadata": {
  "kernelspec": {
   "display_name": "R",
   "language": "R",
   "name": "ir"
  },
  "language_info": {
   "codemirror_mode": "r",
   "file_extension": ".r",
   "mimetype": "text/x-r-source",
   "name": "R",
   "pygments_lexer": "r",
   "version": "3.6.1"
  }
 },
 "nbformat": 4,
 "nbformat_minor": 4
}
